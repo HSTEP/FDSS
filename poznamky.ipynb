{
 "metadata": {
  "language_info": {
   "codemirror_mode": {
    "name": "ipython",
    "version": 3
   },
   "file_extension": ".py",
   "mimetype": "text/x-python",
   "name": "python",
   "nbconvert_exporter": "python",
   "pygments_lexer": "ipython3",
   "version": "3.8.3-final"
  },
  "orig_nbformat": 2,
  "kernelspec": {
   "name": "python_defaultSpec_1598357913009",
   "display_name": "Python 3.8.3 64-bit"
  }
 },
 "nbformat": 4,
 "nbformat_minor": 2,
 "cells": [
  {
   "cell_type": "markdown",
   "metadata": {},
   "source": [
    "# Příkazy použitelné k diplomové práci\n",
    "Záměrně typo v názvu tabluky v databázi, abych si to omylem nespustil a nerozbil"
   ]
  },
  {
   "cell_type": "markdown",
   "metadata": {},
   "source": [
    "## Calculate Value for Each Row in Pandas Dataframe\n",
    "& insert in new column"
   ]
  },
  {
   "cell_type": "code",
   "execution_count": null,
   "metadata": {},
   "outputs": [],
   "source": [
    "from vaderSentiment.vaderSentiment import SentimentIntensityAnalyzer\n",
    "import json\n",
    "import kody\n",
    "import pandas as pd\n",
    "import time\n",
    "from datetime import datetime\n",
    "\n",
    "analyser = SentimentIntensityAnalyzer() #vypočte Vader sentiment\n",
    "\n",
    "print(datetime.now().isoformat())\n",
    "\n",
    "data_frame = pd.read_sql('SELECT time, username, tweet, followers,  sentiment FROM ttTable ORDER BY time ASC', con=kody.cnx) #5s bez order by 8s s order by\n",
    "data_frame['vader_compound'] = [analyser.polarity_scores(x)['compound'] for x in data_frame['tweet']] #7min\n",
    "\n",
    "print(data_frame) \n",
    "\n",
    "print(datetime.now().isoformat())"
   ]
  },
  {
   "cell_type": "markdown",
   "metadata": {},
   "source": [
    "## Running Scripts\n",
    "Kontrola funkčnosti skriptu updatem času v databázi"
   ]
  },
  {
   "cell_type": "code",
   "execution_count": null,
   "metadata": {},
   "outputs": [],
   "source": [
    "import kody\n",
    "from datetime import datetime\n",
    "import time\n",
    "\n",
    "cursor=kody.cnx.cursor()\n",
    "\n",
    "def is_it_running():\n",
    "    script_name = \"test\"\n",
    "    now = datetime.now().isoformat()\n",
    "    cursor.execute(\n",
    "            \"INSERT INTO runng_scripts (script, time) VALUES (%s,%s)\",\n",
    "            (script_name, now))\n",
    "    kody.cnx.commit()\n",
    "    time.sleep(5)\n",
    "\n",
    "while True:\n",
    "    is_it_running()"
   ]
  },
  {
   "cell_type": "markdown",
   "metadata": {},
   "source": [
    "# Vader\n",
    "### **! před updatem tabulky zkontrolovat nastavení MySql databáze**\n",
    "- Update hodnoty sloupce sentiment_vader v sql tabulce pomocí dvou cursorů\n",
    "- výpočet je hned, ale update tabulky trvá hrozně dlouho, "
   ]
  },
  {
   "cell_type": "code",
   "execution_count": null,
   "metadata": {},
   "outputs": [],
   "source": [
    "from vaderSentiment.vaderSentiment import SentimentIntensityAnalyzer\n",
    "import json\n",
    "import kody\n",
    "import pandas as pd\n",
    "import time\n",
    "from datetime import datetime\n",
    "#!!!!!!!!!!!!!!!!!!!!!!!!!!!před spuštěním zkontrolovat nastavení mysql time/published ON UPDATE CURRENT TIMESTAMP při updatu sql změní i hodnotu času!!!!!\n",
    "cursor=kody.cnx.cursor(buffered=True)\n",
    "cursor2=kody.cnx.cursor(buffered=True)\n",
    "analyser = SentimentIntensityAnalyzer()\n",
    "\n",
    "print(datetime.now().isoformat())\n",
    "\n",
    "counter = 0\n",
    "\n",
    "def foo(row):\n",
    "    global counter\n",
    "    counter += 1\n",
    "    print(counter)\n",
    "    return analyser.polarity_scores(row)[\"compound\"]\n",
    "\n",
    "cursor=kody.cnx.cursor(buffered=True)\n",
    "cursor2=kody.cnx.cursor(buffered=True)\n",
    "analyser = SentimentIntensityAnalyzer()\n",
    "\n",
    "cursor.execute(\"SELECT title FROM newsINTC\")\n",
    "\n",
    "cursor2.executemany(\n",
    "   \"UPDATE nesINTC SET sentiment_vader = %s WHERE title = %s LIMIT 1\",\n",
    "   [(foo(row), row[0]) for row in cursor]\n",
    ")\n",
    "\n",
    "kody.cnx.commit()\n",
    "\n",
    "print(datetime.now().isoformat())"
   ]
  },
  {
   "cell_type": "markdown",
   "metadata": {},
   "source": [
    "# 0HLC Chart\n",
    "- total duration: 8s"
   ]
  },
  {
   "cell_type": "code",
   "execution_count": null,
   "metadata": {},
   "outputs": [],
   "source": [
    "import kody\n",
    "import pandas as pd\n",
    "from datetime import datetime\n",
    "import plotly.graph_objects as go\n",
    "import os\n",
    "print(\"start: \", datetime.now().isoformat())\n",
    "\n",
    "# MA bassed on time\n",
    "def dataframe_resample():\n",
    "    data_frame = pd.read_sql('SELECT time, sentiment FROM twetTable ORDER BY time ASC', con=kody.cnx)\n",
    "    data_frame = data_frame.set_index(['time'])\n",
    "    df_mean = data_frame.resample('30min').mean()\n",
    "    return df_mean\n",
    "#print(df_mean)\n",
    "\n",
    "def ohlc_chart():\n",
    "    df_mean_OHLC = dataframe_resample()['sentiment'].resample('2h').ohlc()\n",
    "    fig = go.Figure(data=[go.Candlestick(x=df_mean_OHLC.index,\n",
    "                    open=df_mean_OHLC['open'], \n",
    "                    high=df_mean_OHLC['high'],\n",
    "                    low=df_mean_OHLC['low'], \n",
    "                    close=df_mean_OHLC['close'])\n",
    "                         ])\n",
    "\n",
    "    fig.update_layout(xaxis_rangeslider_visible=False)\n",
    "    fig.write_image(\"assets/t.png\")\n",
    "    return\n",
    "\n",
    "ohlc_chart()\n",
    "print(\"done: \", datetime.now().isoformat())"
   ]
  }
 ]
}